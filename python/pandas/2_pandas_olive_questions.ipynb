{
 "cells": [
  {
   "cell_type": "markdown",
   "metadata": {},
   "source": [
    "#### Answers submitted by:  Will Hetfield  \n",
    "#### Date:  January 4, 2017 \n",
    "---"
   ]
  },
  {
   "cell_type": "markdown",
   "metadata": {},
   "source": [
    "# Python Part 3:  Pandas Exercises\n",
    "---"
   ]
  },
  {
   "cell_type": "markdown",
   "metadata": {},
   "source": [
    "## Q1:  Read in the libraries you need"
   ]
  },
  {
   "cell_type": "code",
   "execution_count": 27,
   "metadata": {
    "collapsed": true
   },
   "outputs": [],
   "source": [
    "# Python 2 & 3 Compatibility\n",
    "from __future__ import print_function, division"
   ]
  },
  {
   "cell_type": "code",
   "execution_count": 28,
   "metadata": {
    "collapsed": true
   },
   "outputs": [],
   "source": [
    "# imports a library 'pandas', names it as 'pd'\n",
    "import pandas as pd\n",
    "import numpy as np\n",
    "import matplotlib.pyplot as plt\n",
    "\n",
    "from IPython.display import Image\n",
    "\n",
    "# enables inline plots, without it plots don't show up in the notebook\n",
    "%matplotlib inline"
   ]
  },
  {
   "cell_type": "markdown",
   "metadata": {},
   "source": [
    "## Q2:  Set options in pandas so it displays `max_rows` to 30"
   ]
  },
  {
   "cell_type": "code",
   "execution_count": 75,
   "metadata": {
    "collapsed": true
   },
   "outputs": [],
   "source": [
    "# set various options in pandas\n",
    "pd.set_option('display.max_columns', None)\n",
    "pd.set_option('display.max_rows', 30)\n",
    "pd.set_option('display.precision', 3)"
   ]
  },
  {
   "cell_type": "markdown",
   "metadata": {},
   "source": [
    "## Q3:  What versions of `Python` and `pandas` are you running?  \n",
    "\n"
   ]
  },
  {
   "cell_type": "code",
   "execution_count": 30,
   "metadata": {},
   "outputs": [
    {
     "name": "stdout",
     "output_type": "stream",
     "text": [
      "Pandas version: 0.20.3\n",
      "Numpy version: 1.13.3\n"
     ]
    }
   ],
   "source": [
    "print(\"Pandas version:\",pd.__version__)\n",
    "print(\"Numpy version:\",np.__version__)"
   ]
  },
  {
   "cell_type": "code",
   "execution_count": 31,
   "metadata": {},
   "outputs": [
    {
     "name": "stdout",
     "output_type": "stream",
     "text": [
      "Python Version: 3.6.3 |Anaconda, Inc.| (default, Oct  6 2017, 12:04:38) \n",
      "[GCC 4.2.1 Compatible Clang 4.0.1 (tags/RELEASE_401/final)]\n"
     ]
    }
   ],
   "source": [
    "# confirming which version of Python I am using\n",
    "import sys\n",
    "print(\"Python Version:\", sys.version)"
   ]
  },
  {
   "cell_type": "markdown",
   "metadata": {},
   "source": [
    "## Q4:  Read in the \"olive\" dataset that is available in this folder\n",
    "Description:  572 olive oil samples from 3 different regions (and 9 sub-regions) of Italy; for each sample the normalized concentrations of 8 fatty acids are given.  \n",
    "Source:  http://www2.chemie.uni-erlangen.de/publications/ANN-book/datasets/oliveoil/\n",
    "\n",
    "There are 3 regions: \n",
    "* South\n",
    "* North\n",
    "* Sardinia\n",
    "\n",
    "There are 9 sub-regions (areas): \n",
    "* North Apulia\n",
    "* South Apulia\n",
    "* Calabria\n",
    "* Sicily\n",
    "* Inland\n",
    "* Coastal Sardinia\n",
    "* Umbria\n",
    "* East\n",
    "* West Liguria\n",
    "\n",
    "Supplemental report:  http://www.public.iastate.edu/~dicook/stat503/05/cs-olive.pdf"
   ]
  },
  {
   "cell_type": "code",
   "execution_count": 32,
   "metadata": {
    "collapsed": true
   },
   "outputs": [],
   "source": [
    "# read csv data into pandas dataframe\n",
    "df = pd.read_csv('olive.csv')"
   ]
  },
  {
   "cell_type": "markdown",
   "metadata": {},
   "source": [
    "## Q5:  How many rows and columns are in this dataframe?"
   ]
  },
  {
   "cell_type": "code",
   "execution_count": 33,
   "metadata": {},
   "outputs": [
    {
     "data": {
      "text/plain": [
       "(572, 11)"
      ]
     },
     "execution_count": 33,
     "metadata": {},
     "output_type": "execute_result"
    }
   ],
   "source": [
    "df.shape"
   ]
  },
  {
   "cell_type": "markdown",
   "metadata": {},
   "source": [
    "## Q6 (HackerRank) assign the first 2 rows of `df` to `df_first_2`"
   ]
  },
  {
   "cell_type": "code",
   "execution_count": 34,
   "metadata": {},
   "outputs": [],
   "source": [
    "\n",
    "df_first_2 = df.iloc[ : , 0:2]"
   ]
  },
  {
   "cell_type": "markdown",
   "metadata": {},
   "source": [
    "## Q6:  Print the first 4 rows of the data"
   ]
  },
  {
   "cell_type": "code",
   "execution_count": 35,
   "metadata": {},
   "outputs": [
    {
     "name": "stdout",
     "output_type": "stream",
     "text": [
      "       Unnamed: 0  region  area  palmitic  palmitoleic  stearic  oleic  \\\n",
      "0  1.North-Apulia       1     1      1075           75      226   7823   \n",
      "1  2.North-Apulia       1     1      1088           73      224   7709   \n",
      "2  3.North-Apulia       1     1       911           54      246   8113   \n",
      "3  4.North-Apulia       1     1       966           57      240   7952   \n",
      "\n",
      "   linoleic  linolenic  arachidic  eicosenoic  \n",
      "0       672         36         60          29  \n",
      "1       781         31         61          29  \n",
      "2       549         31         63          29  \n",
      "3       619         50         78          35  \n"
     ]
    }
   ],
   "source": [
    "print(df.head(4))"
   ]
  },
  {
   "cell_type": "markdown",
   "metadata": {},
   "source": [
    "## Q7:  How many different data types are in this dataframe, and what are the data types?"
   ]
  },
  {
   "cell_type": "code",
   "execution_count": 36,
   "metadata": {},
   "outputs": [
    {
     "name": "stdout",
     "output_type": "stream",
     "text": [
      "<class 'pandas.core.frame.DataFrame'>\n",
      "RangeIndex: 572 entries, 0 to 571\n",
      "Data columns (total 11 columns):\n",
      "Unnamed: 0     572 non-null object\n",
      "region         572 non-null int64\n",
      "area           572 non-null int64\n",
      "palmitic       572 non-null int64\n",
      "palmitoleic    572 non-null int64\n",
      "stearic        572 non-null int64\n",
      "oleic          572 non-null int64\n",
      "linoleic       572 non-null int64\n",
      "linolenic      572 non-null int64\n",
      "arachidic      572 non-null int64\n",
      "eicosenoic     572 non-null int64\n",
      "dtypes: int64(10), object(1)\n",
      "memory usage: 49.2+ KB\n"
     ]
    }
   ],
   "source": [
    "df.info()"
   ]
  },
  {
   "cell_type": "markdown",
   "metadata": {},
   "source": [
    "## Q8:  Create a new column\n",
    "### Copy the column to:  'Unnamed: 0' to 'sub_region_raw'"
   ]
  },
  {
   "cell_type": "code",
   "execution_count": 37,
   "metadata": {},
   "outputs": [
    {
     "name": "stdout",
     "output_type": "stream",
     "text": [
      "<class 'pandas.core.frame.DataFrame'>\n",
      "RangeIndex: 572 entries, 0 to 571\n",
      "Data columns (total 12 columns):\n",
      "Unnamed: 0        572 non-null object\n",
      "region            572 non-null int64\n",
      "area              572 non-null int64\n",
      "palmitic          572 non-null int64\n",
      "palmitoleic       572 non-null int64\n",
      "stearic           572 non-null int64\n",
      "oleic             572 non-null int64\n",
      "linoleic          572 non-null int64\n",
      "linolenic         572 non-null int64\n",
      "arachidic         572 non-null int64\n",
      "eicosenoic        572 non-null int64\n",
      "sub_region_raw    572 non-null object\n",
      "dtypes: int64(10), object(2)\n",
      "memory usage: 53.7+ KB\n"
     ]
    }
   ],
   "source": [
    "df['sub_region_raw'] = df['Unnamed: 0']\n",
    "df.info()"
   ]
  },
  {
   "cell_type": "markdown",
   "metadata": {},
   "source": [
    "## Q9:  Rename a column\n",
    "### 'Unnamed: 0' to:  'sub_region_desc'"
   ]
  },
  {
   "cell_type": "code",
   "execution_count": 43,
   "metadata": {},
   "outputs": [
    {
     "data": {
      "text/plain": [
       "0        1.North-Apulia\n",
       "1        2.North-Apulia\n",
       "2        3.North-Apulia\n",
       "3        4.North-Apulia\n",
       "4        5.North-Apulia\n",
       "             ...       \n",
       "567    568.West-Liguria\n",
       "568    569.West-Liguria\n",
       "569    570.West-Liguria\n",
       "570    571.West-Liguria\n",
       "571    572.West-Liguria\n",
       "Name: sub_region_desc, Length: 572, dtype: object"
      ]
     },
     "execution_count": 43,
     "metadata": {},
     "output_type": "execute_result"
    }
   ],
   "source": [
    "\n",
    "df.rename(columns = {'Unnamed: 0' : 'sub_region_desc'},inplace = True)\n",
    "df['sub_region_desc']"
   ]
  },
  {
   "cell_type": "markdown",
   "metadata": {},
   "source": [
    "## Q10:  Rename the column 'area' to:  'sub_region'"
   ]
  },
  {
   "cell_type": "code",
   "execution_count": 45,
   "metadata": {},
   "outputs": [
    {
     "data": {
      "text/plain": [
       "0      1\n",
       "1      1\n",
       "2      1\n",
       "3      1\n",
       "4      1\n",
       "      ..\n",
       "567    8\n",
       "568    8\n",
       "569    8\n",
       "570    8\n",
       "571    8\n",
       "Name: sub_region, Length: 572, dtype: int64"
      ]
     },
     "execution_count": 45,
     "metadata": {},
     "output_type": "execute_result"
    }
   ],
   "source": [
    " df.rename(columns = {'area' : 'sub_region'},inplace = True)\n",
    "df['sub_region']"
   ]
  },
  {
   "cell_type": "markdown",
   "metadata": {},
   "source": [
    "## Q11:  How many unique values of 'region' are there?\n",
    "\n",
    "Hint:  the answer should be 3"
   ]
  },
  {
   "cell_type": "code",
   "execution_count": 54,
   "metadata": {},
   "outputs": [
    {
     "data": {
      "text/plain": [
       "1    323\n",
       "3    151\n",
       "2     98\n",
       "Name: region, dtype: int64"
      ]
     },
     "execution_count": 54,
     "metadata": {},
     "output_type": "execute_result"
    }
   ],
   "source": [
    "df.region.value_counts()"
   ]
  },
  {
   "cell_type": "code",
   "execution_count": 55,
   "metadata": {},
   "outputs": [
    {
     "data": {
      "text/plain": [
       "{1: 323, 2: 98, 3: 151}"
      ]
     },
     "execution_count": 55,
     "metadata": {},
     "output_type": "execute_result"
    }
   ],
   "source": [
    "df['region'].value_counts().to_dict()"
   ]
  },
  {
   "cell_type": "markdown",
   "metadata": {},
   "source": [
    "## Q12:  How many unique values of 'sub_region' are there?\n",
    "\n",
    "Hint:  the answer should be 9"
   ]
  },
  {
   "cell_type": "code",
   "execution_count": 56,
   "metadata": {},
   "outputs": [
    {
     "data": {
      "text/plain": [
       "{1: 25, 2: 56, 3: 206, 4: 36, 5: 65, 6: 33, 7: 50, 8: 50, 9: 51}"
      ]
     },
     "execution_count": 56,
     "metadata": {},
     "output_type": "execute_result"
    }
   ],
   "source": [
    "df['sub_region'].value_counts().to_dict()"
   ]
  },
  {
   "cell_type": "markdown",
   "metadata": {},
   "source": [
    "## Q13:  How many unique values of 'sub_region_desc' are there?\n",
    "Hint:  we would like the answer to be 9, but here's where we run into some messy data"
   ]
  },
  {
   "cell_type": "code",
   "execution_count": 57,
   "metadata": {},
   "outputs": [
    {
     "data": {
      "text/plain": [
       "{'1.North-Apulia': 1,\n",
       " '10.North-Apulia': 1,\n",
       " '100.South-Apulia': 1,\n",
       " '101.South-Apulia': 1,\n",
       " '102.South-Apulia': 1,\n",
       " '103.South-Apulia': 1,\n",
       " '104.South-Apulia': 1,\n",
       " '105.South-Apulia': 1,\n",
       " '106.South-Apulia': 1,\n",
       " '107.South-Apulia': 1,\n",
       " '108.South-Apulia': 1,\n",
       " '109.South-Apulia': 1,\n",
       " '11.North-Apulia': 1,\n",
       " '110.South-Apulia': 1,\n",
       " '111.South-Apulia': 1,\n",
       " '112.South-Apulia': 1,\n",
       " '113.South-Apulia': 1,\n",
       " '114.South-Apulia': 1,\n",
       " '115.South-Apulia': 1,\n",
       " '116.South-Apulia': 1,\n",
       " '117.South-Apulia': 1,\n",
       " '118.South-Apulia': 1,\n",
       " '119.South-Apulia': 1,\n",
       " '12.North-Apulia': 1,\n",
       " '120.South-Apulia': 1,\n",
       " '121.South-Apulia': 1,\n",
       " '122.South-Apulia': 1,\n",
       " '123.South-Apulia': 1,\n",
       " '124.South-Apulia': 1,\n",
       " '125.South-Apulia': 1,\n",
       " '126.South-Apulia': 1,\n",
       " '127.South-Apulia': 1,\n",
       " '128.South-Apulia': 1,\n",
       " '129.South-Apulia': 1,\n",
       " '13.North-Apulia': 1,\n",
       " '130.South-Apulia': 1,\n",
       " '131.South-Apulia': 1,\n",
       " '132.South-Apulia': 1,\n",
       " '133.South-Apulia': 1,\n",
       " '134.South-Apulia': 1,\n",
       " '135.South-Apulia': 1,\n",
       " '136.South-Apulia': 1,\n",
       " '137.South-Apulia': 1,\n",
       " '138.South-Apulia': 1,\n",
       " '139.South-Apulia': 1,\n",
       " '14.North-Apulia': 1,\n",
       " '140.South-Apulia': 1,\n",
       " '141.South-Apulia': 1,\n",
       " '142.South-Apulia': 1,\n",
       " '143.South-Apulia': 1,\n",
       " '144.South-Apulia': 1,\n",
       " '145.South-Apulia': 1,\n",
       " '146.South-Apulia': 1,\n",
       " '147.South-Apulia': 1,\n",
       " '148.South-Apulia': 1,\n",
       " '149.South-Apulia': 1,\n",
       " '15.North-Apulia': 1,\n",
       " '150.South-Apulia': 1,\n",
       " '151.South-Apulia': 1,\n",
       " '152.South-Apulia': 1,\n",
       " '153.South-Apulia': 1,\n",
       " '154.South-Apulia': 1,\n",
       " '155.South-Apulia': 1,\n",
       " '156.South-Apulia': 1,\n",
       " '157.South-Apulia': 1,\n",
       " '158.South-Apulia': 1,\n",
       " '159.South-Apulia': 1,\n",
       " '16.North-Apulia': 1,\n",
       " '160.South-Apulia': 1,\n",
       " '161.South-Apulia': 1,\n",
       " '162.South-Apulia': 1,\n",
       " '163.South-Apulia': 1,\n",
       " '164.South-Apulia': 1,\n",
       " '165.South-Apulia': 1,\n",
       " '166.South-Apulia': 1,\n",
       " '167.South-Apulia': 1,\n",
       " '168.South-Apulia': 1,\n",
       " '169.South-Apulia': 1,\n",
       " '17.North-Apulia': 1,\n",
       " '170.South-Apulia': 1,\n",
       " '171.South-Apulia': 1,\n",
       " '172.South-Apulia': 1,\n",
       " '173.South-Apulia': 1,\n",
       " '174.South-Apulia': 1,\n",
       " '175.South-Apulia': 1,\n",
       " '176.South-Apulia': 1,\n",
       " '177.South-Apulia': 1,\n",
       " '178.South-Apulia': 1,\n",
       " '179.South-Apulia': 1,\n",
       " '18.North-Apulia': 1,\n",
       " '180.South-Apulia': 1,\n",
       " '181.South-Apulia': 1,\n",
       " '182.South-Apulia': 1,\n",
       " '183.South-Apulia': 1,\n",
       " '184.South-Apulia': 1,\n",
       " '185.South-Apulia': 1,\n",
       " '186.South-Apulia': 1,\n",
       " '187.South-Apulia': 1,\n",
       " '188.South-Apulia': 1,\n",
       " '189.South-Apulia': 1,\n",
       " '19.North-Apulia': 1,\n",
       " '190.South-Apulia': 1,\n",
       " '191.South-Apulia': 1,\n",
       " '192.South-Apulia': 1,\n",
       " '193.South-Apulia': 1,\n",
       " '194.South-Apulia': 1,\n",
       " '195.South-Apulia': 1,\n",
       " '196.South-Apulia': 1,\n",
       " '197.South-Apulia': 1,\n",
       " '198.South-Apulia': 1,\n",
       " '199.South-Apulia': 1,\n",
       " '2.North-Apulia': 1,\n",
       " '20.North-Apulia': 1,\n",
       " '200.South-Apulia': 1,\n",
       " '201.South-Apulia': 1,\n",
       " '202.South-Apulia': 1,\n",
       " '203.South-Apulia': 1,\n",
       " '204.South-Apulia': 1,\n",
       " '205.South-Apulia': 1,\n",
       " '206.South-Apulia': 1,\n",
       " '207.South-Apulia': 1,\n",
       " '208.South-Apulia': 1,\n",
       " '209.South-Apulia': 1,\n",
       " '21.North-Apulia': 1,\n",
       " '210.South-Apulia': 1,\n",
       " '211.South-Apulia': 1,\n",
       " '212.South-Apulia': 1,\n",
       " '213.South-Apulia': 1,\n",
       " '214.South-Apulia': 1,\n",
       " '215.South-Apulia': 1,\n",
       " '216.South-Apulia': 1,\n",
       " '217.South-Apulia': 1,\n",
       " '218.South-Apulia': 1,\n",
       " '219.South-Apulia': 1,\n",
       " '22.North-Apulia': 1,\n",
       " '220.South-Apulia': 1,\n",
       " '221.South-Apulia': 1,\n",
       " '222.South-Apulia': 1,\n",
       " '223.South-Apulia': 1,\n",
       " '224.South-Apulia': 1,\n",
       " '225.South-Apulia': 1,\n",
       " '226.South-Apulia': 1,\n",
       " '227.South-Apulia': 1,\n",
       " '228.South-Apulia': 1,\n",
       " '229.South-Apulia': 1,\n",
       " '23.North-Apulia': 1,\n",
       " '230.South-Apulia': 1,\n",
       " '231.South-Apulia': 1,\n",
       " '232.South-Apulia': 1,\n",
       " '233.South-Apulia': 1,\n",
       " '234.South-Apulia': 1,\n",
       " '235.South-Apulia': 1,\n",
       " '236.South-Apulia': 1,\n",
       " '237.South-Apulia': 1,\n",
       " '238.South-Apulia': 1,\n",
       " '239.South-Apulia': 1,\n",
       " '24.North-Apulia': 1,\n",
       " '240.South-Apulia': 1,\n",
       " '241.South-Apulia': 1,\n",
       " '242.South-Apulia': 1,\n",
       " '243.South-Apulia': 1,\n",
       " '244.South-Apulia': 1,\n",
       " '245.South-Apulia': 1,\n",
       " '246.South-Apulia': 1,\n",
       " '247.South-Apulia': 1,\n",
       " '248.South-Apulia': 1,\n",
       " '249.South-Apulia': 1,\n",
       " '25.North-Apulia': 1,\n",
       " '250.South-Apulia': 1,\n",
       " '251.South-Apulia': 1,\n",
       " '252.South-Apulia': 1,\n",
       " '253.South-Apulia': 1,\n",
       " '254.South-Apulia': 1,\n",
       " '255.South-Apulia': 1,\n",
       " '256.South-Apulia': 1,\n",
       " '257.South-Apulia': 1,\n",
       " '258.Sicily': 1,\n",
       " '259.Sicily': 1,\n",
       " '26.Calabria': 1,\n",
       " '260.Sicily': 1,\n",
       " '261.Sicily': 1,\n",
       " '262.Sicily': 1,\n",
       " '263.Sicily': 1,\n",
       " '264.Sicily': 1,\n",
       " '265.Sicily': 1,\n",
       " '266.Sicily': 1,\n",
       " '267.Sicily': 1,\n",
       " '268.Sicily': 1,\n",
       " '269.Sicily': 1,\n",
       " '27.Calabria': 1,\n",
       " '270.Sicily': 1,\n",
       " '271.Sicily': 1,\n",
       " '272.Sicily': 1,\n",
       " '273.Sicily': 1,\n",
       " '274.Sicily': 1,\n",
       " '275.Sicily': 1,\n",
       " '276.Sicily': 1,\n",
       " '277.Sicily': 1,\n",
       " '278.Sicily': 1,\n",
       " '279.Sicily': 1,\n",
       " '28.Calabria': 1,\n",
       " '280.Sicily': 1,\n",
       " '281.Sicily': 1,\n",
       " '282.Sicily': 1,\n",
       " '283.Sicily': 1,\n",
       " '284.Sicily': 1,\n",
       " '285.Sicily': 1,\n",
       " '286.Sicily': 1,\n",
       " '287.Sicily': 1,\n",
       " '288.Sicily': 1,\n",
       " '289.Sicily': 1,\n",
       " '29.Calabria': 1,\n",
       " '290.Sicily': 1,\n",
       " '291.Sicily': 1,\n",
       " '292.Sicily': 1,\n",
       " '293.Sicily': 1,\n",
       " '294.South-Apulia': 1,\n",
       " '295.South-Apulia': 1,\n",
       " '296.South-Apulia': 1,\n",
       " '297.South-Apulia': 1,\n",
       " '298.South-Apulia': 1,\n",
       " '299.South-Apulia': 1,\n",
       " '3.North-Apulia': 1,\n",
       " '30.Calabria': 1,\n",
       " '300.South-Apulia': 1,\n",
       " '301.South-Apulia': 1,\n",
       " '302.South-Apulia': 1,\n",
       " '303.South-Apulia': 1,\n",
       " '304.South-Apulia': 1,\n",
       " '305.South-Apulia': 1,\n",
       " '306.South-Apulia': 1,\n",
       " '307.South-Apulia': 1,\n",
       " '308.South-Apulia': 1,\n",
       " '309.South-Apulia': 1,\n",
       " '31.Calabria': 1,\n",
       " '310.South-Apulia': 1,\n",
       " '311.South-Apulia': 1,\n",
       " '312.South-Apulia': 1,\n",
       " '313.South-Apulia': 1,\n",
       " '314.South-Apulia': 1,\n",
       " '315.South-Apulia': 1,\n",
       " '316.South-Apulia': 1,\n",
       " '317.South-Apulia': 1,\n",
       " '318.South-Apulia': 1,\n",
       " '319.South-Apulia': 1,\n",
       " '32.Calabria': 1,\n",
       " '320.South-Apulia': 1,\n",
       " '321.South-Apulia': 1,\n",
       " '322.South-Apulia': 1,\n",
       " '323.South-Apulia': 1,\n",
       " '324.Inland-Sardinia': 1,\n",
       " '325.Inland-Sardinia': 1,\n",
       " '326.Inland-Sardinia': 1,\n",
       " '327.Inland-Sardinia': 1,\n",
       " '328.Inland-Sardinia': 1,\n",
       " '329.Inland-Sardinia': 1,\n",
       " '33.Calabria': 1,\n",
       " '330.Inland-Sardinia': 1,\n",
       " '331.Inland-Sardinia': 1,\n",
       " '332.Inland-Sardinia': 1,\n",
       " '333.Inland-Sardinia': 1,\n",
       " '334.Inland-Sardinia': 1,\n",
       " '335.Coast-Sardinia': 1,\n",
       " '336.Coast-Sardinia': 1,\n",
       " '337.Coast-Sardinia': 1,\n",
       " '338.Coast-Sardinia': 1,\n",
       " '339.Coast-Sardinia': 1,\n",
       " '34.Calabria': 1,\n",
       " '340.Coast-Sardinia': 1,\n",
       " '341.Inland-Sardinia': 1,\n",
       " '342.Inland-Sardinia': 1,\n",
       " '343.Inland-Sardinia': 1,\n",
       " '344.Inland-Sardinia': 1,\n",
       " '345.Inland-Sardinia': 1,\n",
       " '346.Inland-Sardinia': 1,\n",
       " '347.Inland-Sardinia': 1,\n",
       " '348.Inland-Sardinia': 1,\n",
       " '349.Inland-Sardinia': 1,\n",
       " '35.Calabria': 1,\n",
       " '350.Inland-Sardinia': 1,\n",
       " '351.Inland-Sardinia': 1,\n",
       " '352.Inland-Sardinia': 1,\n",
       " '353.Inland-Sardinia': 1,\n",
       " '354.Inland-Sardinia': 1,\n",
       " '355.Inland-Sardinia': 1,\n",
       " '356.Inland-Sardinia': 1,\n",
       " '357.Inland-Sardinia': 1,\n",
       " '358.Inland-Sardinia': 1,\n",
       " '359.Inland-Sardinia': 1,\n",
       " '36.Calabria': 1,\n",
       " '360.Inland-Sardinia': 1,\n",
       " '361.Inland-Sardinia': 1,\n",
       " '362.Inland-Sardinia': 1,\n",
       " '363.Inland-Sardinia': 1,\n",
       " '364.Inland-Sardinia': 1,\n",
       " '365.Inland-Sardinia': 1,\n",
       " '366.Inland-Sardinia': 1,\n",
       " '367.Inland-Sardinia': 1,\n",
       " '368.Inland-Sardinia': 1,\n",
       " '369.Inland-Sardinia': 1,\n",
       " '37.Calabria': 1,\n",
       " '370.Inland-Sardinia': 1,\n",
       " '371.Coast-Sardinia': 1,\n",
       " '372.Coast-Sardinia': 1,\n",
       " '373.Coast-Sardinia': 1,\n",
       " '374.Coast-Sardinia': 1,\n",
       " '375.Coast-Sardinia': 1,\n",
       " '376.Coast-Sardinia': 1,\n",
       " '377.Coast-Sardinia': 1,\n",
       " '378.Coast-Sardinia': 1,\n",
       " '379.Coast-Sardinia': 1,\n",
       " '38.Calabria': 1,\n",
       " '380.Coast-Sardinia': 1,\n",
       " '381.Coast-Sardinia': 1,\n",
       " '382.Coast-Sardinia': 1,\n",
       " '383.Coast-Sardinia': 1,\n",
       " '384.Coast-Sardinia': 1,\n",
       " '385.Coast-Sardinia': 1,\n",
       " '386.Inland-Sardinia': 1,\n",
       " '387.Inland-Sardinia': 1,\n",
       " '388.Inland-Sardinia': 1,\n",
       " '389.Inland-Sardinia': 1,\n",
       " '39.Calabria': 1,\n",
       " '390.Inland-Sardinia': 1,\n",
       " '391.Inland-Sardinia': 1,\n",
       " '392.Inland-Sardinia': 1,\n",
       " '393.Inland-Sardinia': 1,\n",
       " '394.Inland-Sardinia': 1,\n",
       " '395.Inland-Sardinia': 1,\n",
       " '396.Inland-Sardinia': 1,\n",
       " '397.Inland-Sardinia': 1,\n",
       " '398.Inland-Sardinia': 1,\n",
       " '399.Inland-Sardinia': 1,\n",
       " '4.North-Apulia': 1,\n",
       " '40.Calabria': 1,\n",
       " '400.Inland-Sardinia': 1,\n",
       " '401.Inland-Sardinia': 1,\n",
       " '402.Inland-Sardinia': 1,\n",
       " '403.Inland-Sardinia': 1,\n",
       " '404.Inland-Sardinia': 1,\n",
       " '405.Inland-Sardinia': 1,\n",
       " '406.Inland-Sardinia': 1,\n",
       " '407.Inland-Sardinia': 1,\n",
       " '408.Inland-Sardinia': 1,\n",
       " '409.Inland-Sardinia': 1,\n",
       " '41.Calabria': 1,\n",
       " '410.Coast-Sardinia': 1,\n",
       " '411.Coast-Sardinia': 1,\n",
       " '412.Coast-Sardinia': 1,\n",
       " '413.Coast-Sardinia': 1,\n",
       " '414.Coast-Sardinia': 1,\n",
       " '415.Coast-Sardinia': 1,\n",
       " '416.Coast-Sardinia': 1,\n",
       " '417.Coast-Sardinia': 1,\n",
       " '418.Coast-Sardinia': 1,\n",
       " '419.Coast-Sardinia': 1,\n",
       " '42.Calabria': 1,\n",
       " '420.Coast-Sardinia': 1,\n",
       " '421.Coast-Sardinia': 1,\n",
       " '422.Umbria': 1,\n",
       " '423.Umbria': 1,\n",
       " '424.Umbria': 1,\n",
       " '425.Umbria': 1,\n",
       " '426.Umbria': 1,\n",
       " '427.Umbria': 1,\n",
       " '428.Umbria': 1,\n",
       " '429.Umbria': 1,\n",
       " '43.Calabria': 1,\n",
       " '430.Umbria': 1,\n",
       " '431.Umbria': 1,\n",
       " '432.Umbria': 1,\n",
       " '433.Umbria': 1,\n",
       " '434.Umbria': 1,\n",
       " '435.Umbria': 1,\n",
       " '436.Umbria': 1,\n",
       " '437.Umbria': 1,\n",
       " '438.Umbria': 1,\n",
       " '439.Umbria': 1,\n",
       " '44.Calabria': 1,\n",
       " '440.Umbria': 1,\n",
       " '441.Umbria': 1,\n",
       " '442.Umbria': 1,\n",
       " '443.Umbria': 1,\n",
       " '444.Umbria': 1,\n",
       " '445.Umbria': 1,\n",
       " '446.Umbria': 1,\n",
       " '447.Umbria': 1,\n",
       " '448.Umbria': 1,\n",
       " '449.Umbria': 1,\n",
       " '45.Calabria': 1,\n",
       " '450.Umbria': 1,\n",
       " '451.Umbria': 1,\n",
       " '452.Umbria': 1,\n",
       " '453.Umbria': 1,\n",
       " '454.Umbria': 1,\n",
       " '455.Umbria': 1,\n",
       " '456.Umbria': 1,\n",
       " '457.Umbria': 1,\n",
       " '458.Umbria': 1,\n",
       " '459.Umbria': 1,\n",
       " '46.Calabria': 1,\n",
       " '460.Umbria': 1,\n",
       " '461.Umbria': 1,\n",
       " '462.Umbria': 1,\n",
       " '463.Umbria': 1,\n",
       " '464.Umbria': 1,\n",
       " '465.Umbria': 1,\n",
       " '466.Umbria': 1,\n",
       " '467.Umbria': 1,\n",
       " '468.Umbria': 1,\n",
       " '469.Umbria': 1,\n",
       " '47.Calabria': 1,\n",
       " '470.Umbria': 1,\n",
       " '471.Umbria': 1,\n",
       " '472.Umbria': 1,\n",
       " '473.East-Liguria': 1,\n",
       " '474.East-Liguria': 1,\n",
       " '475.East-Liguria': 1,\n",
       " '476.East-Liguria': 1,\n",
       " '477.East-Liguria': 1,\n",
       " '478.East-Liguria': 1,\n",
       " '479.East-Liguria': 1,\n",
       " '48.Calabria': 1,\n",
       " '480.East-Liguria': 1,\n",
       " '481.East-Liguria': 1,\n",
       " '482.East-Liguria': 1,\n",
       " '483.East-Liguria': 1,\n",
       " '484.East-Liguria': 1,\n",
       " '485.East-Liguria': 1,\n",
       " '486.East-Liguria': 1,\n",
       " '487.East-Liguria': 1,\n",
       " '488.East-Liguria': 1,\n",
       " '489.East-Liguria': 1,\n",
       " '49.Calabria': 1,\n",
       " '490.East-Liguria': 1,\n",
       " '491.East-Liguria': 1,\n",
       " '492.East-Liguria': 1,\n",
       " '493.East-Liguria': 1,\n",
       " '494.East-Liguria': 1,\n",
       " '495.East-Liguria': 1,\n",
       " '496.East-Liguria': 1,\n",
       " '497.East-Liguria': 1,\n",
       " '498.East-Liguria': 1,\n",
       " '499.East-Liguria': 1,\n",
       " '5.North-Apulia': 1,\n",
       " '50.Calabria': 1,\n",
       " '500.East-Liguria': 1,\n",
       " '501.East-Liguria': 1,\n",
       " '502.East-Liguria': 1,\n",
       " '503.East-Liguria': 1,\n",
       " '504.East-Liguria': 1,\n",
       " '505.East-Liguria': 1,\n",
       " '506.East-Liguria': 1,\n",
       " '507.East-Liguria': 1,\n",
       " '508.East-Liguria': 1,\n",
       " '509.East-Liguria': 1,\n",
       " '51.Calabria': 1,\n",
       " '510.East-Liguria': 1,\n",
       " '511.East-Liguria': 1,\n",
       " '512.East-Liguria': 1,\n",
       " '513.East-Liguria': 1,\n",
       " '514.East-Liguria': 1,\n",
       " '515.East-Liguria': 1,\n",
       " '516.East-Liguria': 1,\n",
       " '517.East-Liguria': 1,\n",
       " '518.East-Liguria': 1,\n",
       " '519.East-Liguria': 1,\n",
       " '52.Calabria': 1,\n",
       " '520.East-Liguria': 1,\n",
       " '521.East-Liguria': 1,\n",
       " '522.East-Liguria': 1,\n",
       " '523.West-Liguria': 1,\n",
       " '524.West-Liguria': 1,\n",
       " '525.West-Liguria': 1,\n",
       " '526.West-Liguria': 1,\n",
       " '527.West-Liguria': 1,\n",
       " '528.West-Liguria': 1,\n",
       " '529.West-Liguria': 1,\n",
       " '53.Calabria': 1,\n",
       " '530.West-Liguria': 1,\n",
       " '531.West-Liguria': 1,\n",
       " '532.West-Liguria': 1,\n",
       " '533.West-Liguria': 1,\n",
       " '534.West-Liguria': 1,\n",
       " '535.West-Liguria': 1,\n",
       " '536.West-Liguria': 1,\n",
       " '537.West-Liguria': 1,\n",
       " '538.West-Liguria': 1,\n",
       " '539.West-Liguria': 1,\n",
       " '54.Calabria': 1,\n",
       " '540.West-Liguria': 1,\n",
       " '541.West-Liguria': 1,\n",
       " '542.West-Liguria': 1,\n",
       " '543.West-Liguria': 1,\n",
       " '544.West-Liguria': 1,\n",
       " '545.West-Liguria': 1,\n",
       " '546.West-Liguria': 1,\n",
       " '547.West-Liguria': 1,\n",
       " '548.West-Liguria': 1,\n",
       " '549.West-Liguria': 1,\n",
       " '55.Calabria': 1,\n",
       " '550.West-Liguria': 1,\n",
       " '551.West-Liguria': 1,\n",
       " '552.West-Liguria': 1,\n",
       " '553.West-Liguria': 1,\n",
       " '554.West-Liguria': 1,\n",
       " '555.West-Liguria': 1,\n",
       " '556.West-Liguria': 1,\n",
       " '557.West-Liguria': 1,\n",
       " '558.West-Liguria': 1,\n",
       " '559.West-Liguria': 1,\n",
       " '56.Calabria': 1,\n",
       " '560.West-Liguria': 1,\n",
       " '561.West-Liguria': 1,\n",
       " '562.West-Liguria': 1,\n",
       " '563.West-Liguria': 1,\n",
       " '564.West-Liguria': 1,\n",
       " '565.West-Liguria': 1,\n",
       " '566.West-Liguria': 1,\n",
       " '567.West-Liguria': 1,\n",
       " '568.West-Liguria': 1,\n",
       " '569.West-Liguria': 1,\n",
       " '57.Calabria': 1,\n",
       " '570.West-Liguria': 1,\n",
       " '571.West-Liguria': 1,\n",
       " '572.West-Liguria': 1,\n",
       " '58.Calabria': 1,\n",
       " '59.Calabria': 1,\n",
       " '6.North-Apulia': 1,\n",
       " '60.Calabria': 1,\n",
       " '61.Calabria': 1,\n",
       " '62.Calabria': 1,\n",
       " '63.Calabria': 1,\n",
       " '64.Calabria': 1,\n",
       " '65.Calabria': 1,\n",
       " '66.Calabria': 1,\n",
       " '67.Calabria': 1,\n",
       " '68.Calabria': 1,\n",
       " '69.Calabria': 1,\n",
       " '7.North-Apulia': 1,\n",
       " '70.Calabria': 1,\n",
       " '71.Calabria': 1,\n",
       " '72.Calabria': 1,\n",
       " '73.Calabria': 1,\n",
       " '74.Calabria': 1,\n",
       " '75.Calabria': 1,\n",
       " '76.Calabria': 1,\n",
       " '77.Calabria': 1,\n",
       " '78.Calabria': 1,\n",
       " '79.Calabria': 1,\n",
       " '8.North-Apulia': 1,\n",
       " '80.Calabria': 1,\n",
       " '81.Calabria': 1,\n",
       " '82.South-Apulia': 1,\n",
       " '83.South-Apulia': 1,\n",
       " '84.South-Apulia': 1,\n",
       " '85.South-Apulia': 1,\n",
       " '86.South-Apulia': 1,\n",
       " '87.South-Apulia': 1,\n",
       " '88.South-Apulia': 1,\n",
       " '89.South-Apulia': 1,\n",
       " '9.North-Apulia': 1,\n",
       " '90.South-Apulia': 1,\n",
       " '91.South-Apulia': 1,\n",
       " '92.South-Apulia': 1,\n",
       " '93.South-Apulia': 1,\n",
       " '94.South-Apulia': 1,\n",
       " '95.South-Apulia': 1,\n",
       " '96.South-Apulia': 1,\n",
       " '97.South-Apulia': 1,\n",
       " '98.South-Apulia': 1,\n",
       " '99.South-Apulia': 1}"
      ]
     },
     "execution_count": 57,
     "metadata": {},
     "output_type": "execute_result"
    }
   ],
   "source": [
    "df['sub_region_desc'].value_counts().to_dict()"
   ]
  },
  {
   "cell_type": "markdown",
   "metadata": {},
   "source": [
    "## Q14:  Looks like 'sub_region_desc' has line numbers attached to the beginning of region name.  We need to do some data cleaning.  Can you remove them?  \n",
    "```\n",
    " \tregion \tsub_region \tpalmitic \tpalmitoleic \tstearic \toleic \tlinoleic \tlinolenic \tarachidic \teicosenoic \tsub_region_raw\n",
    "sub_region_desc \t\t\t\t\t\t\t\t\t\t\t\n",
    "1.North-Apulia \t1 \t1 \t1 \t1 \t1 \t1 \t1 \t1 \t1 \t1 \t1\n",
    "10.North-Apulia \t1 \t1 \t1 \t1 \t1 \t1 \t1 \t1 \t1 \t1 \t1\n",
    "100.South-Apulia \t1 \t1 \t1 \t1 \t1 \t1 \t1 \t1 \t1 \t1 \t1\n",
    "101.South-Apulia \t1 \t1 \t1 \t1 \t1 \t1 \t1 \t1 \t1 \t1 \t1\n",
    "102.South-Apulia \t1 \t1 \t1 \t1 \t1 \t1 \t1 \t1 \t1 \t1 \t1\n",
    "```\n",
    "\n",
    "Hint:  check out this link\n",
    "http://stackoverflow.com/questions/39583264/pandas-strip-numbers-and-parenthesis-from-string\n",
    " "
   ]
  },
  {
   "cell_type": "code",
   "execution_count": 70,
   "metadata": {},
   "outputs": [
    {
     "data": {
      "text/plain": [
       "0      North-Apulia\n",
       "1      North-Apulia\n",
       "2      North-Apulia\n",
       "3      North-Apulia\n",
       "4      North-Apulia\n",
       "           ...     \n",
       "567    West-Liguria\n",
       "568    West-Liguria\n",
       "569    West-Liguria\n",
       "570    West-Liguria\n",
       "571    West-Liguria\n",
       "Name: sub_region_desc, Length: 572, dtype: object"
      ]
     },
     "execution_count": 70,
     "metadata": {},
     "output_type": "execute_result"
    }
   ],
   "source": [
    "#df['sub_region_desc'].str.extract(r'.*?([-A-Za-z]+).*?', expand = False)\n",
    "df['sub_region_desc'].str.extract(r'([-A-Za-z]+)', expand = False)"
   ]
  },
  {
   "cell_type": "code",
   "execution_count": 72,
   "metadata": {},
   "outputs": [],
   "source": [
    "df['sub_region_desc'] = df['sub_region_desc'].str.extract(r'([-A-Za-z]+)', expand = False)"
   ]
  },
  {
   "cell_type": "markdown",
   "metadata": {},
   "source": [
    "## Q15:  Try again:  How many unique values of 'sub_region_desc' are there?\n",
    "Hint:  you should see 9 of them!"
   ]
  },
  {
   "cell_type": "code",
   "execution_count": 73,
   "metadata": {},
   "outputs": [
    {
     "data": {
      "text/plain": [
       "{'Calabria': 56,\n",
       " 'Coast-Sardinia': 33,\n",
       " 'East-Liguria': 50,\n",
       " 'Inland-Sardinia': 65,\n",
       " 'North-Apulia': 25,\n",
       " 'Sicily': 36,\n",
       " 'South-Apulia': 206,\n",
       " 'Umbria': 51,\n",
       " 'West-Liguria': 50}"
      ]
     },
     "execution_count": 73,
     "metadata": {},
     "output_type": "execute_result"
    }
   ],
   "source": [
    "df['sub_region_desc'].value_counts().to_dict()"
   ]
  },
  {
   "cell_type": "markdown",
   "metadata": {},
   "source": [
    "## Q16:   Create a horizontal frequency barplot for 'region'"
   ]
  },
  {
   "cell_type": "code",
   "execution_count": 76,
   "metadata": {},
   "outputs": [
    {
     "data": {
      "text/plain": [
       "<matplotlib.axes._subplots.AxesSubplot at 0x10e1a50f0>"
      ]
     },
     "execution_count": 76,
     "metadata": {},
     "output_type": "execute_result"
    },
    {
     "data": {
      "image/png": "[encoded data removed]",
      "text/plain": [
       "<matplotlib.figure.Figure at 0x10e16a668>"
      ]
     },
     "metadata": {},
     "output_type": "display_data"
    }
   ],
   "source": [
    " df['region'].value_counts().plot('barh')"
   ]
  },
  {
   "cell_type": "markdown",
   "metadata": {},
   "source": [
    "## Q17:   Create a horizontal frequency barplot for 'sub_region'"
   ]
  },
  {
   "cell_type": "code",
   "execution_count": 77,
   "metadata": {},
   "outputs": [
    {
     "data": {
      "text/plain": [
       "<matplotlib.axes._subplots.AxesSubplot at 0x10e16ab38>"
      ]
     },
     "execution_count": 77,
     "metadata": {},
     "output_type": "execute_result"
    },
    {
     "data": {
      "image/png": "[encoded data removed]",
      "text/plain": [
       "<matplotlib.figure.Figure at 0x10e1b0ef0>"
      ]
     },
     "metadata": {},
     "output_type": "display_data"
    }
   ],
   "source": [
    " df['sub_region'].value_counts().plot('barh')"
   ]
  },
  {
   "cell_type": "markdown",
   "metadata": {},
   "source": [
    "## Q18:   Create a horizontal frequency barplot for 'sub_region_desc'"
   ]
  },
  {
   "cell_type": "code",
   "execution_count": 78,
   "metadata": {},
   "outputs": [
    {
     "data": {
      "text/plain": [
       "<matplotlib.axes._subplots.AxesSubplot at 0x113264cc0>"
      ]
     },
     "execution_count": 78,
     "metadata": {},
     "output_type": "execute_result"
    },
    {
     "data": {
      "image/png": "[encoded data removed]",
      "text/plain": [
       "<matplotlib.figure.Figure at 0x11325e3c8>"
      ]
     },
     "metadata": {},
     "output_type": "display_data"
    }
   ],
   "source": [
    " df['sub_region_desc'].value_counts().plot('barh')"
   ]
  }
 ],
 "metadata": {
  "anaconda-cloud": {},
  "kernelspec": {
   "display_name": "Python 3",
   "language": "python",
   "name": "python3"
  },
  "language_info": {
   "codemirror_mode": {
    "name": "ipython",
    "version": 3
   },
   "file_extension": ".py",
   "mimetype": "text/x-python",
   "name": "python",
   "nbconvert_exporter": "python",
   "pygments_lexer": "ipython3",
   "version": "3.6.3"
  }
 },
 "nbformat": 4,
 "nbformat_minor": 1
}
