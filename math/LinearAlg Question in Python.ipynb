{
 "cells": [
  {
   "cell_type": "code",
   "execution_count": 2,
   "metadata": {},
   "outputs": [],
   "source": [
    "import numpy as np\n",
    "#Do not change these variables\n",
    "A = np.array([[1,2,3],[2,7,4]])\n",
    "B = np.array([[1,-1],[0,1]])\n",
    "C = np.array([[5,-1],[9,1],[6,0]])\n",
    "D = np.array([[3,-2,-1],[1,2,3]])\n",
    "\n",
    "u = np.array([6,2,-3,5])\n",
    "v = np.array([3,5,-1,4])"
   ]
  },
  {
   "cell_type": "code",
   "execution_count": 15,
   "metadata": {},
   "outputs": [
    {
     "data": {
      "text/plain": [
       "(2, 3)"
      ]
     },
     "execution_count": 15,
     "metadata": {},
     "output_type": "execute_result"
    }
   ],
   "source": [
    "eval('A').shape"
   ]
  },
  {
   "cell_type": "code",
   "execution_count": 16,
   "metadata": {},
   "outputs": [
    {
     "data": {
      "text/plain": [
       "{'A': (2, 3), 'B': (2, 2), 'C': (3, 2), 'D': (2, 3), 'u': (4,), 'v': (4,)}"
      ]
     },
     "execution_count": 16,
     "metadata": {},
     "output_type": "execute_result"
    }
   ],
   "source": [
    "# Q1: record the dimensions of A, B, C, D, u, v respectively in the dict below. \n",
    "#     Do not type the answers, make python do the work\n",
    "\n",
    "variable_list = ['A','B','C','D','u','v']\n",
    "dimensions = {key: eval(value).shape for key, value in zip (variable_list, variable_list)}\n",
    "dimensions"
   ]
  },
  {
   "cell_type": "code",
   "execution_count": 23,
   "metadata": {},
   "outputs": [],
   "source": [
    "# Q2: vector operations\n",
    "#     assign `None` if the operation is not defined\n",
    "#     do not type the answers, make python do the work\n",
    "alpha = 6\n",
    "\n",
    "u_plus_v = u + v            # u+v\n",
    "u_minus_v = u - v           # u-v\n",
    "alpha_times_u = alpha * u   # alpha * u, alpha = 6\n",
    "u_dot_v = np.dot (u, v )    # u . v\n",
    "norm_u = np.linalg.norm(u)  # ||u|| "
   ]
  },
  {
   "cell_type": "code",
   "execution_count": 24,
   "metadata": {},
   "outputs": [
    {
     "name": "stdout",
     "output_type": "stream",
     "text": [
      "[ 9  7 -4  9] [ 3 -3 -2  1] [ 36  12 -18  30] 51 8.60232526704\n"
     ]
    }
   ],
   "source": [
    "print (u_plus_v,u_minus_v,alpha_times_u, u_dot_v, norm_u)"
   ]
  },
  {
   "cell_type": "code",
   "execution_count": 31,
   "metadata": {},
   "outputs": [],
   "source": [
    "# Q3: compute the following and assign to variables below:\n",
    "#     assign `None` if the operation is not defined\n",
    "#     do not type the answers, make python do the work\n",
    "\n",
    "A_plus_C = None             # A + C\n",
    "A_minus_Ctranspose = A - np.transpose(C)   # A - C.T\n",
    "Ctranspose_plus_3D = np.transpose(C)  + (3 * D)  # C.T + 3*D\n",
    "B_times_A =  np.dot(B,A)     # B*A\n",
    "B_times_Atranspose = None  # B*A.T"
   ]
  },
  {
   "cell_type": "code",
   "execution_count": 32,
   "metadata": {},
   "outputs": [
    {
     "name": "stdout",
     "output_type": "stream",
     "text": [
      "None [[-4 -7 -3]\n",
      " [ 3  6  4]] [[14  3  3]\n",
      " [ 2  7  9]] [[-1 -5 -1]\n",
      " [ 2  7  4]] None\n"
     ]
    }
   ],
   "source": [
    "print (A_plus_C, A_minus_Ctranspose, Ctranspose_plus_3D, B_times_A, B_times_Atranspose)"
   ]
  },
  {
   "cell_type": "code",
   "execution_count": 47,
   "metadata": {},
   "outputs": [],
   "source": [
    "# Q4: (bonus)\n",
    "\n",
    "B_times_C = None             # B*C\n",
    "C_times_B = np.dot(C,B)            # C*B\n",
    "B_exp_4 = np.linalg.matrix_power(B,4)             # B^4\n",
    "A_times_Atranspose = np.dot(A,np.transpose(A))   # A*A.T\n",
    "Dtranspose_times_D = np.dot(np.transpose(D), D)   # D.T*D"
   ]
  },
  {
   "cell_type": "code",
   "execution_count": 48,
   "metadata": {},
   "outputs": [
    {
     "name": "stdout",
     "output_type": "stream",
     "text": [
      "None\n",
      "[[ 5 -6]\n",
      " [ 9 -8]\n",
      " [ 6 -6]]\n",
      "[[ 1 -4]\n",
      " [ 0  1]]\n",
      "[[14 28]\n",
      " [28 69]]\n",
      "[[10 -4  0]\n",
      " [-4  8  8]\n",
      " [ 0  8 10]]\n"
     ]
    }
   ],
   "source": [
    "print (B_times_C)\n",
    "print (C_times_B)\n",
    "print (B_exp_4)\n",
    "print (A_times_Atranspose)\n",
    "print (Dtranspose_times_D)\n"
   ]
  },
  {
   "cell_type": "code",
   "execution_count": null,
   "metadata": {
    "collapsed": true
   },
   "outputs": [],
   "source": []
  }
 ],
 "metadata": {
  "kernelspec": {
   "display_name": "Python 3",
   "language": "python",
   "name": "python3"
  },
  "language_info": {
   "codemirror_mode": {
    "name": "ipython",
    "version": 3
   },
   "file_extension": ".py",
   "mimetype": "text/x-python",
   "name": "python",
   "nbconvert_exporter": "python",
   "pygments_lexer": "ipython3",
   "version": "3.6.3"
  }
 },
 "nbformat": 4,
 "nbformat_minor": 2
}
